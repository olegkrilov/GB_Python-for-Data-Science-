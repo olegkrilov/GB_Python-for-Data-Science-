{
 "cells": [
  {
   "cell_type": "markdown",
   "metadata": {},
   "source": [
    "### Задание 3\n",
    "Примените модель KMeans, построенную в предыдущем задании,\n",
    "к данным из тестового набора.\n",
    "Вычислите средние значения price и CRIM в разных кластерах на тестовых данных."
   ]
  },
  {
   "cell_type": "code",
   "execution_count": 31,
   "metadata": {},
   "outputs": [],
   "source": [
    "import numpy as np\n",
    "import pandas as pd\n",
    "import pickle\n"
   ]
  },
  {
   "cell_type": "code",
   "execution_count": 32,
   "metadata": {},
   "outputs": [],
   "source": [
    "# Constants\n",
    "SHARED_FOLDER = 'shared'\n",
    "CL_MODEL = 'cl_model'\n",
    "PD_DATA_SOURCES = ('X_test', 'X_test_scaled')\n",
    "NP_DATA_SOURCES = ('y_test', )\n",
    "PRICE = 'PRICE'\n",
    "CRIM = 'CRIM'\n"
   ]
  },
  {
   "cell_type": "code",
   "execution_count": 33,
   "metadata": {},
   "outputs": [],
   "source": [
    "# Load data from previous task\n",
    "def load_data(file_name, as_dataframe=True, ext='csv'):\n",
    "    path = f'{SHARED_FOLDER}/{file_name}.{ext}'\n",
    "    \n",
    "    if as_dataframe:\n",
    "        _data = pd.read_csv(path)\n",
    "        return _data.drop(_data.columns[0], axis=1)\n",
    "    else:\n",
    "        return np.genfromtxt(path, delimiter=',')\n",
    "    "
   ]
  },
  {
   "cell_type": "code",
   "execution_count": 35,
   "metadata": {},
   "outputs": [
    {
     "name": "stdout",
     "output_type": "stream",
     "text": [
      "\n",
      "-------- Mean by Clusters | Test Data ---------\n",
      "\n",
      "CLUSTER #0\n",
      "PRICE:  21.860784313725492\n",
      "CRIM:  0.26607882352941176\n",
      "\n",
      "\n",
      "CLUSTER #1\n",
      "PRICE:  16.43714285714286\n",
      "CRIM:  10.165531142857144\n",
      "\n",
      "\n",
      "CLUSTER #2\n",
      "PRICE:  31.35\n",
      "CRIM:  0.06205999999999999\n",
      "\n",
      "\n"
     ]
    }
   ],
   "source": [
    "#Solution\n",
    "X_test, X_train_scaled = [load_data(label) for label in PD_DATA_SOURCES]\n",
    "y_test = load_data(NP_DATA_SOURCES[0], False)\n",
    "\n",
    "clustetization_model = pickle.load(open(f'{SHARED_FOLDER}/{CL_MODEL}.pkl', 'rb'))\n",
    "predicted_clusters = clustetization_model.predict(X_train_scaled)\n",
    "\n",
    "\n",
    "print('\\n-------- Mean by Clusters | Test Data ---------\\n')\n",
    "\n",
    "for i in range(clustetization_model.n_clusters):\n",
    "    print(f'CLUSTER #{i}')\n",
    "    print(f'{PRICE}: ', y_test[predicted_clusters == i].mean())\n",
    "    print(f'{CRIM}: ', X_test.loc[predicted_clusters == i, CRIM].mean())\n",
    "    print('\\n')"
   ]
  },
  {
   "cell_type": "code",
   "execution_count": null,
   "metadata": {},
   "outputs": [],
   "source": []
  }
 ],
 "metadata": {
  "kernelspec": {
   "display_name": "Python 3",
   "language": "python",
   "name": "python3"
  },
  "language_info": {
   "codemirror_mode": {
    "name": "ipython",
    "version": 3
   },
   "file_extension": ".py",
   "mimetype": "text/x-python",
   "name": "python",
   "nbconvert_exporter": "python",
   "pygments_lexer": "ipython3",
   "version": "3.8.5"
  }
 },
 "nbformat": 4,
 "nbformat_minor": 4
}
