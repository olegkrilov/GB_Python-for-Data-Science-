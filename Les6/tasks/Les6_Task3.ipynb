{
 "cells": [
  {
   "cell_type": "markdown",
   "metadata": {},
   "source": [
    "### Задание 3\n",
    "Вызовите документацию для класса RandomForestRegressor,\n",
    "найдите информацию об атрибуте feature_importances_.\n",
    "С помощью этого атрибута найдите сумму всех показателей важности,\n",
    "установите, какие два признака показывают наибольшую важность\n"
   ]
  },
  {
   "cell_type": "code",
   "execution_count": 30,
   "metadata": {},
   "outputs": [],
   "source": [
    "import sys; sys.path.insert(0, '..')\n",
    "import numpy as np\n",
    "from sklearn.model_selection import train_test_split\n",
    "from sklearn.ensemble import RandomForestRegressor\n",
    "\n",
    "from lib.Core import (\n",
    "    TEST_RANGE, RANDOM_SEED, PRICE,\n",
    "    load_data, train_model\n",
    ")\n",
    "\n",
    "ESTIMATORS = 1000\n",
    "DEPTH = 12\n"
   ]
  },
  {
   "cell_type": "code",
   "execution_count": 15,
   "metadata": {},
   "outputs": [],
   "source": [
    "?RandomForestRegressor\n"
   ]
  },
  {
   "cell_type": "code",
   "execution_count": 16,
   "metadata": {},
   "outputs": [
    {
     "data": {
      "text/plain": [
       "(     Correct   Precited     Error\n",
       " 173     23.6  22.806412 -0.793588\n",
       " 274     32.4  31.131464 -1.268536\n",
       " 491     13.6  16.339125  2.739125\n",
       " 72      22.8  23.810726  1.010726\n",
       " 452     16.1  17.139521  1.039521\n",
       " ..       ...        ...       ...\n",
       " 441     17.1  13.521640 -3.578360\n",
       " 23      14.5  15.112621  0.612621\n",
       " 225     50.0  42.808700 -7.191300\n",
       " 433     14.3  15.586103  1.286103\n",
       " 447     12.6  16.072425  3.472425\n",
       " \n",
       " [152 rows x 3 columns],\n",
       " 0.8479049999699443)"
      ]
     },
     "execution_count": 16,
     "metadata": {},
     "output_type": "execute_result"
    }
   ],
   "source": [
    "# Let's train model\n",
    "X, y = load_data()\n",
    "X_train, X_test, y_train, y_test = train_test_split(X, y, test_size=TEST_RANGE, random_state=RANDOM_SEED)\n",
    "model = RandomForestRegressor(n_estimators=ESTIMATORS, max_depth=DEPTH, random_state=RANDOM_SEED)\n",
    "\n",
    "train_model(\n",
    "    X_train,\n",
    "    y_train.values[:, 0],\n",
    "    X_test,\n",
    "    y_test[PRICE],\n",
    "    model=model\n",
    ")\n"
   ]
  },
  {
   "cell_type": "code",
   "execution_count": 33,
   "metadata": {},
   "outputs": [
    {
     "name": "stdout",
     "output_type": "stream",
     "text": [
      "[0.03167574 0.00154252 0.00713813 0.00123624 0.01426897 0.40268179\n",
      " 0.01429864 0.06397257 0.00528122 0.01152493 0.01808108 0.01245085\n",
      " 0.41584732]\n",
      "SUM        : 1.0\n",
      "MAX VALUES : [12  5]\n"
     ]
    }
   ],
   "source": [
    "print(model.feature_importances_)\n",
    "print(f'SUM        : {model.feature_importances_.sum()}')\n",
    "print(f'MAX VALUES : {np.argsort(model.feature_importances_)[::-1][:2]}')\n"
   ]
  },
  {
   "cell_type": "code",
   "execution_count": null,
   "metadata": {},
   "outputs": [],
   "source": []
  }
 ],
 "metadata": {
  "kernelspec": {
   "display_name": "Python 3",
   "language": "python",
   "name": "python3"
  },
  "language_info": {
   "codemirror_mode": {
    "name": "ipython",
    "version": 3
   },
   "file_extension": ".py",
   "mimetype": "text/x-python",
   "name": "python",
   "nbconvert_exporter": "python",
   "pygments_lexer": "ipython3",
   "version": "3.8.5"
  }
 },
 "nbformat": 4,
 "nbformat_minor": 4
}
